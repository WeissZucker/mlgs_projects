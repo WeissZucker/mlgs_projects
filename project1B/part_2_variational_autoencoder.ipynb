{
 "cells": [
  {
   "cell_type": "code",
   "execution_count": 1,
   "metadata": {},
   "outputs": [],
   "source": [
    "import matplotlib.pyplot as plt\n",
    "import numpy as np\n",
    "import torch\n",
    "import torch.nn as nn\n",
    "import torch.nn.functional as F\n",
    "from torchvision import datasets, transforms\n",
    "# These packages are required by the visualization utils\n",
    "import seaborn as sns  \n",
    "from sklearn.manifold import TSNE\n",
    "\n",
    "import vae_utils"
   ]
  },
  {
   "cell_type": "markdown",
   "metadata": {},
   "source": [
    "# Project 1, part 2: Variational Autoencoder (60 pt)\n",
    "In this notebook you will implement the Variational Autoencoder (VAE) that we discussed in Lecture 3.\n",
    "\n",
    "## Your task\n",
    "Complete the missing code. Make sure that all the functions follow the provided specification, i.e. the output of the function exactly matches the description in the docstring. \n",
    "\n",
    "Do not add or modify any code outside of the following comment blocks\n",
    "```\n",
    "##########################################################\n",
    "# YOUR CODE HERE\n",
    ".....\n",
    "##########################################################\n",
    "```\n",
    "After you fill in all the missing code, restart the kernel and re-run all the cells in the notebook.\n",
    "\n",
    "\n",
    "The following things are **NOT** allowed:\n",
    "- Using additional `import` statements\n",
    "- Using the `torch.distributions` package\n",
    "- Copying / reusing code from other sources (e.g. code by other students)\n",
    "\n",
    "If you plagiarise even for a single project task, you won't be eligible for the bonus this semester."
   ]
  },
  {
   "cell_type": "markdown",
   "metadata": {},
   "source": [
    "## Load the MNIST dataset"
   ]
  },
  {
   "cell_type": "code",
   "execution_count": 2,
   "metadata": {},
   "outputs": [],
   "source": [
    "device = 'cuda'\n",
    "device = 'cpu'  # uncomment this line to run the model on the CPU\n",
    "batch_size = 128\n",
    "dataset = datasets.MNIST \n",
    "if device == 'cuda':\n",
    "    train_loader = torch.utils.data.DataLoader(\n",
    "        dataset('data', train=True, download=True, transform=transforms.ToTensor()),\n",
    "        batch_size=batch_size, shuffle=True, num_workers=1, pin_memory=True\n",
    "    )\n",
    "    test_loader = torch.utils.data.DataLoader(\n",
    "        dataset('data', train=False, download=True, transform=transforms.ToTensor()),\n",
    "        batch_size=1000, shuffle=True, num_workers=1, pin_memory=True\n",
    "    )\n",
    "elif device == 'cpu':\n",
    "    train_loader = torch.utils.data.DataLoader(\n",
    "        dataset('data', train=True, download=True, transform=transforms.ToTensor()),\n",
    "        batch_size=batch_size, shuffle=True,\n",
    "    )\n",
    "    test_loader = torch.utils.data.DataLoader(\n",
    "        dataset('data', train=False, download=True, transform=transforms.ToTensor()),\n",
    "        batch_size=1000, shuffle=True,\n",
    "    )\n"
   ]
  },
  {
   "cell_type": "code",
   "execution_count": 3,
   "metadata": {
    "scrolled": true
   },
   "outputs": [
    {
     "data": {
      "image/png": "[encoded data removed]",
      "text/plain": [
       "<Figure size 540x288 with 10 Axes>"
      ]
     },
     "metadata": {},
     "output_type": "display_data"
    }
   ],
   "source": [
    "# Visualize a few random samples from the dataset\n",
    "vae_utils.visualize_mnist(train_loader)"
   ]
  },
  {
   "cell_type": "markdown",
   "metadata": {},
   "source": [
    "## Task 1: Encoder (10 pt)\n",
    "The encoder network produces the parameters of the variational distribution (Slide 102). \n",
    "In our case, the variational distribution $q_{\\boldsymbol{\\phi}^{(i)}}(\\mathbf{z}^{(i)})$ is multivariate normal with diagonal covariance, so we encoder needs to produce its mean and the (diagonal of the) covariance matrix.\n",
    "The encoder has the following architecture\n",
    "<img src=\"img/encoder.png\" alt=\"Encoder\" style=\"width: 200px;\"/>\n",
    "The encoder produces the parameters $\\boldsymbol{\\mu}^{(i)} \\in \\mathbb{R}^L$ and $\\log \\boldsymbol{\\sigma}^{(i)} \\in \\mathbb{R}^L$ for each sample $i$ in the mini batch. \n",
    "Note that $\\log \\boldsymbol{\\sigma}^{(i)}$ can be negative, we convert it into a diagonal positive-definite covariance matrix as $\\boldsymbol{\\Sigma}^{(i)} = \\operatorname{diag}(\\exp(\\log \\boldsymbol{\\sigma}^{(i)}))^2)$"
   ]
  },
  {
   "cell_type": "markdown",
   "metadata": {},
   "source": [
    "## Task 2: Reparametrization sampling (10 pt)\n",
    "Given the parameters $\\boldsymbol{\\mu}^{(i)}$ and $\\log \\boldsymbol{\\sigma}^{(i)}$ of the variational distribution, we need to generate samples $\\mathbf{z}^{(i)} \\sim q_{\\boldsymbol{\\phi}^{(i)}}(\\mathbf{z}^{(i)}) = \\mathcal{N}(\\mathbf{z}^{(i)} | \\boldsymbol{\\mu}^{(i)}, \\boldsymbol{\\Sigma}^{(i)})$ to estimate the ELBO. \n",
    "We draw one sample $\\mathbf{z}^{(i)}$ for each instance $i$ in the mini-batch (Slide 104).\n",
    "It's important to draw samples using reparametrization here, so that it's possible to obtain gradient w.r.t. the parameters of the encoder.\n",
    "\n",
    "Functions `torch.normal` or `torch.Tensor.normal_` might be useful here."
   ]
  },
  {
   "cell_type": "markdown",
   "metadata": {},
   "source": [
    "## Task 3: Decoder (10 pt)\n",
    "The decoder takes the samples $\\mathbf{z}^{(i)}$ and produces the parameters $\\boldsymbol{\\theta}^{(i)} \\in \\mathbb{R}^D$ of the data likelihood $p_{\\boldsymbol{\\theta}^{(i)}}(\\mathbf{x}^{(i)}|\\mathbf{z}^{(i)})$.\n",
    "We use the following simple architecture for the decoder\n",
    "\n",
    "<img src=\"img/decoder.png\" alt=\"Decoder\" style=\"width: 150px;\"/>\n",
    "\n",
    "Our data $\\mathbf{x}^{(i)} \\in \\{0, 1\\}^D$ is binary, so we use Bernoulli likelihood (Slide 95)\n",
    "$$p_{\\boldsymbol{\\theta}^{(i)}}(\\mathbf{x}^{(i)}|\\mathbf{z}^{(i)}) = \\prod_{j=1}^D \\left(\\theta_{j}^{(i)}\\right)^{x_{j}^{(i)}} \\left(1 - \\theta_{j}^{(i)}\\right)^{1 - x_{j}^{(i)}}$$\n",
    "Recall that the **negative log-likelihood** of the Bernoulli model is also called binary cross entropy.\n",
    "\n",
    "The parameters $\\theta_{j}^{(i)}$ must be in $(0, 1)$, which we enforce using the sigmoid function."
   ]
  },
  {
   "cell_type": "markdown",
   "metadata": {},
   "source": [
    "## Task 4: KL divergence (5 pt)\n",
    "To compute the ELBO, we will need to compute the KL divergence. \n",
    "$$\\mathbb{KL}(q_{\\boldsymbol{\\phi}^{(i)}}(\\mathbf{z}^{(i)}) || p(\\mathbf{z}^{(i)}))$$\n",
    "Where $p(\\mathbf{z}^{(i)})$ is the standard L-dimensional normal distribution (zero mean, identity covariance).\n",
    "This can be done in closed form (Slide 99)."
   ]
  },
  {
   "cell_type": "markdown",
   "metadata": {},
   "source": [
    "## Task 5: ELBO (15 pt)\n",
    "Finally, we can compute the ELBO using all the methods that we implemented above.\n",
    "ELBO for a single sample $\\mathbf{x}^{(i)} \\in \\{0, 1\\}^D$ is computed as\n",
    "$$\\mathcal{L}_i(\\boldsymbol{\\psi}, \\boldsymbol{\\lambda}) = \\mathbb{E}_{\\mathbf{z}^{(i)} \\sim q_{\\boldsymbol{\\phi}^{(i)}} (\\mathbf{z}^{(i)})}\\left[\\log p_{\\boldsymbol{\\theta}^{(i)}}(\\mathbf{x}^{(i)} | \\mathbf{z}^{(i)})\\right] - \\mathbb{KL}(q_{\\boldsymbol{\\phi}^{(i)}}(\\mathbf{z}^{(i)}) || p(\\mathbf{z}))$$\n",
    "\n",
    "In practice it's more efficient to compute the ELBO for a minibatch $\\mathcal{B}$ of samples \n",
    "$$\\mathcal{L}(\\boldsymbol{\\psi}, \\boldsymbol{\\lambda}) = \\frac{1}{|\\mathcal{B}|} \\sum_{\\mathbf{x}^{(i)} \\in \\mathcal{B}} \\mathcal{L}_i(\\boldsymbol{\\psi}, \\boldsymbol{\\lambda})$$\n",
    "where the variational parameters $\\boldsymbol{\\phi}^{(i)}$ are produced by the **encoder network** $f_{\\boldsymbol{\\psi}}$ (i.e. $\\boldsymbol{\\phi}^{(i)} = f_{\\boldsymbol{\\psi}}(\\mathbf{x}^{(i)})$),\n",
    "and the likelihood parameters $\\boldsymbol{\\theta}^{(i)}$ are produced by the **decoder network** $g_{\\boldsymbol{\\lambda}}$ (i.e. $\\boldsymbol{\\theta}^{(i)} = g_{\\boldsymbol{\\lambda}}(\\mathbf{x}^{(i)})$).\n",
    "\n",
    "Overview of this procedure is provided on Slide 103."
   ]
  },
  {
   "cell_type": "markdown",
   "metadata": {},
   "source": [
    "## Task 6: Generating new data (10 pt)\n",
    "We can generate new samples using the procedure described on Slide 108.\n",
    "Function `torch.bernoulli` might be useful here."
   ]
  },
  {
   "cell_type": "code",
   "execution_count": 48,
   "metadata": {},
   "outputs": [],
   "source": [
    "class VAE(nn.Module):\n",
    "    def __init__(self, obs_dim, latent_dim, hidden_dim=100):\n",
    "        \"\"\"Initialize the VAE model.\n",
    "        \n",
    "        Args:\n",
    "            obs_dim: Dimension of the observed data x, int\n",
    "            latent_dim: Dimension of the latent variable z, int\n",
    "            hidden_dim: Hidden dimension of the encoder/decoder networks, int\n",
    "        \"\"\"\n",
    "        super().__init__()\n",
    "        self.latent_dim = latent_dim\n",
    "        # Trainable layers of the encoder\n",
    "        self.linear1 = nn.Linear(obs_dim, hidden_dim)\n",
    "        self.linear21 = nn.Linear(hidden_dim, latent_dim)\n",
    "        self.linear22 = nn.Linear(hidden_dim, latent_dim)\n",
    "        # Trainable layers of the decoder\n",
    "        self.linear3 = nn.Linear(latent_dim, hidden_dim)\n",
    "        self.linear4 = nn.Linear(hidden_dim, obs_dim)\n",
    "    \n",
    "    def encoder(self, x):\n",
    "        \"\"\"Obtain the parameters of q(z) for a batch of data points.\n",
    "        \n",
    "        Args:\n",
    "            x: Batch of data points, shape [batch_size, obs_dim]\n",
    "        \n",
    "        Returns:\n",
    "            mu: Means of q(z), shape [batch_size, latent_dim]\n",
    "            logsigma: Log-sigmas of q(z), shape [batch_size, latent_dim]\n",
    "        \"\"\"\n",
    "        ##########################################################\n",
    "        # YOUR CODE HERE\n",
    "        o = F.relu(self.linear1(x))\n",
    "        mu = self.linear21(o)\n",
    "        logsigma = self.linear22(o)\n",
    "        \n",
    "        return mu, logsigma\n",
    "        \n",
    "        ##########################################################\n",
    "    \n",
    "    def sample_with_reparam(self, mu, logsigma):\n",
    "        \"\"\"Draw sample from q(z) with reparametrization.\n",
    "        \n",
    "        We draw a single sample z_i for each data point x_i.\n",
    "        \n",
    "        Args:\n",
    "            mu: Means of q(z) for the batch, shape [batch_size, latent_dim]\n",
    "            logsigma: Log-sigmas of q(z) for the batch, shape [batch_size, latent_dim]\n",
    "        \n",
    "        Returns:\n",
    "            z: Latent variables samples from q(z), shape [batch_size, latent_dim]\n",
    "        \"\"\"\n",
    "        ##########################################################\n",
    "        # YOUR CODE HERE\n",
    "        epsilon = torch.normal(torch.zeros_like(mu), torch.ones_like(mu))\n",
    "        z = mu + torch.exp(logsigma) * epsilon\n",
    "        \n",
    "        return z\n",
    "        ##########################################################\n",
    "    \n",
    "    def decoder(self, z):\n",
    "        \"\"\"Convert sampled latent variables z into observations x.\n",
    "        \n",
    "        Args:\n",
    "            z: Sampled latent variables, shape [batch_size, latent_dim]\n",
    "        \n",
    "        Returns:\n",
    "            theta: Parameters of the conditional likelihood, shape [batch_size, obs_dim]\n",
    "        \"\"\"\n",
    "        ##########################################################\n",
    "        # YOUR CODE HERE\n",
    "        theta = F.relu(self.linear3(z))\n",
    "        theta = self.linear4(theta)\n",
    "        theta = torch.sigmoid(theta)\n",
    "        \n",
    "        return theta\n",
    "        ##########################################################\n",
    "    \n",
    "    def kl_divergence(self, mu, logsigma):\n",
    "        \"\"\"Compute KL divergence KL(q_i(z)||p(z)) for each q_i in the batch.\n",
    "        \n",
    "        Args:\n",
    "            mu: Means of the q_i distributions, shape [batch_size, latent_dim]\n",
    "            logsigma: Logarithm of standard deviations of the q_i distributions,\n",
    "                      shape [batch_size, latent_dim]\n",
    "        \n",
    "        Returns:\n",
    "            kl: KL divergence for each of the q_i distributions, shape [batch_size]\n",
    "        \"\"\"\n",
    "        ##########################################################\n",
    "        # YOUR CODE HERE\n",
    "        return 0.5 * (torch.sum(torch.exp(logsigma)**2 + mu ** 2 - 2*logsigma - 1, dim=1))\n",
    "        ##########################################################\n",
    "    \n",
    "    def elbo(self, x):\n",
    "        \"\"\"Estimate the ELBO for the mini-batch of data.\n",
    "        \n",
    "        Args:\n",
    "            x: Mini-batch of the observations, shape [batch_size, obs_dim]\n",
    "        \n",
    "        Returns:\n",
    "            elbo_mc: MC estimate of ELBO for each sample in the mini-batch, shape [batch_size]\n",
    "        \"\"\"\n",
    "        ##########################################################\n",
    "        # YOUR CODE HERE\n",
    "        mu, logsigma = self.encoder(x)\n",
    "        z = self.sample_with_reparam(mu, logsigma)\n",
    "        theta = self.decoder(z)\n",
    "        log_p_x_z = - F.binary_cross_entropy(theta, x, reduction='none')\n",
    "        log_p_x_z = torch.sum(log_p_x_z, dim=1)\n",
    "        kl = self.kl_divergence(mu, logsigma)\n",
    "        \n",
    "        return torch.mean(log_p_x_z - kl)\n",
    "        ##########################################################\n",
    "        \n",
    "    def sample(self, num_samples):\n",
    "        \"\"\"Generate samples from the model.\n",
    "        \n",
    "        Args:\n",
    "            num_samples: Number of samples to generate.\n",
    "        \n",
    "        Returns:\n",
    "            x: Samples generated by the model, shape [num_samples, obs_dim]\n",
    "        \"\"\"\n",
    "        ##########################################################\n",
    "        # YOUR CODE HERE\n",
    "        z_sample = torch.randn((num_samples, self.latent_dim))\n",
    "        theta = self.decoder(z_sample)\n",
    "        return torch.bernoulli(theta)\n",
    "        ##########################################################"
   ]
  },
  {
   "cell_type": "code",
   "execution_count": 49,
   "metadata": {},
   "outputs": [],
   "source": [
    "obs_dim = 784  # MNIST images are of shape [1, 28, 28]\n",
    "latent_dim = 32  # Size of the latent variable z\n",
    "hidden_dim = 400  # Size of the hidden layer in the encoder / decoder\n",
    "\n",
    "vae = VAE(obs_dim, latent_dim, hidden_dim).to(device)\n",
    "opt = torch.optim.Adam(vae.parameters(), lr=1e-3)"
   ]
  },
  {
   "cell_type": "code",
   "execution_count": null,
   "metadata": {},
   "outputs": [
    {
     "name": "stdout",
     "output_type": "stream",
     "text": [
      "Epoch 0\n",
      "  loss = 551.18\n",
      "  loss = 183.53\n",
      "  loss = 159.27\n",
      "  loss = 144.27\n",
      "  loss = 141.34\n",
      "Epoch 1\n",
      "  loss = 130.17\n"
     ]
    }
   ],
   "source": [
    "max_epochs = 5\n",
    "display_step = 100\n",
    "for epoch in range(max_epochs):\n",
    "    print(f'Epoch {epoch}')\n",
    "    for ix, batch in enumerate(train_loader):\n",
    "        x, y = batch\n",
    "        x = x.view(x.shape[0], obs_dim).to(device)  # we flatten the image into 1D array\n",
    "        opt.zero_grad()\n",
    "        # We want to maximize the ELBO, so we minimize the negative ELBO\n",
    "        loss = -vae.elbo(x).mean(-1)\n",
    "        loss.backward()\n",
    "        opt.step()\n",
    "        \n",
    "        if ix % display_step == 0:\n",
    "            print(f'  loss = {loss.item():.2f}')"
   ]
  },
  {
   "cell_type": "markdown",
   "metadata": {},
   "source": [
    "### Visualize samples generated by the model"
   ]
  },
  {
   "cell_type": "code",
   "execution_count": null,
   "metadata": {},
   "outputs": [],
   "source": [
    "a = torch.empty((128, 32, 32))\n",
    "b = torch.empty((128, 32, 1))\n",
    "torch.bmm(a, b).shape"
   ]
  },
  {
   "cell_type": "code",
   "execution_count": null,
   "metadata": {},
   "outputs": [],
   "source": [
    "x = vae.sample(10).view(-1, 28, 28).detach().cpu().numpy()\n",
    "vae_utils.visualize_vae_samples(x)"
   ]
  },
  {
   "cell_type": "markdown",
   "metadata": {},
   "source": [
    "While the images here look somewhat similar to the training data and it's possible to discern the shapes of different digits, the sampels are not visually coherent.\n",
    "You might need to run the above cell several times to obtain images that look decent.\n",
    "\n",
    "It's possible to obtain images that look a lot better by using more \n",
    "powerful encoders & decoders (see `nn.Conv2d` and `nn.ConvTranspose2d`).\n",
    "However, training such models is slower, unless you have a good GPU."
   ]
  },
  {
   "cell_type": "markdown",
   "metadata": {},
   "source": [
    "### Visualize the embeddings produced by the model\n",
    "Here, we visualize the embeddings learned by the encoder using the following procedure\n",
    "1. Take a mini-batch `x` (shape `[batch_size, obs_dim]`)\n",
    "2. Pass `x` through the encoder \n",
    "```\n",
    "mu, logsigma = vae.encoder(x)\n",
    "```\n",
    "3. Visualize the mean `mu` for each sample using t-SNE."
   ]
  },
  {
   "cell_type": "code",
   "execution_count": null,
   "metadata": {},
   "outputs": [],
   "source": [
    "x, y = next(iter(test_loader))\n",
    "x = x.view(x.shape[0], obs_dim).to(device)\n",
    "plt.figure(figsize=[10, 7])\n",
    "vae_utils.visualize_embeddings(vae, x, y)"
   ]
  },
  {
   "cell_type": "markdown",
   "metadata": {},
   "source": [
    "As we can see, the encoder learned to assign similar means to the images that belong to the same class. That means, if two samples $x_i$ and $x_j$ belong to the same class, the means $\\mu_i$ and $\\mu_j$ of their variational distributions $q_i(z_i)$ and $q_j(z_j)$ are nearby, so $z_i$ and $z_j$ will likely be close as well."
   ]
  }
 ],
 "metadata": {
  "kernelspec": {
   "display_name": "Python 3",
   "language": "python",
   "name": "python3"
  },
  "language_info": {
   "codemirror_mode": {
    "name": "ipython",
    "version": 3
   },
   "file_extension": ".py",
   "mimetype": "text/x-python",
   "name": "python",
   "nbconvert_exporter": "python",
   "pygments_lexer": "ipython3",
   "version": "3.7.6"
  }
 },
 "nbformat": 4,
 "nbformat_minor": 4
}
